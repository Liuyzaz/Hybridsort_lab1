{
 "cells": [
  {
   "cell_type": "code",
   "execution_count": 1,
   "id": "46cda737",
   "metadata": {},
   "outputs": [],
   "source": [
    "import random\n",
    "import pandas as pd\n",
    "\n",
    "def generate_and_save_datasets(sizes, max_values):\n",
    "    for size in sizes:\n",
    "        data = [random.randint(1, max_values[size]) for _ in range(size)]\n",
    "        df = pd.DataFrame(data, columns=['Value'])\n",
    "        df.to_csv(f'dataset_{size}.csv', index=False)\n",
    "\n",
    "sizes = [1000, 5000, 10000, 50000, 100000, 500000, 1000000, 5000000]\n",
    "max_values = {size: size for size in sizes}  # max value is equal to size for simplicity\n",
    "generate_and_save_datasets(sizes, max_values)\n"
   ]
  },
  {
   "cell_type": "code",
   "execution_count": 1,
   "id": "f9cb7b3b",
   "metadata": {},
   "outputs": [],
   "source": [
    "import random\n",
    "import pandas as pd\n",
    "\n",
    "def generate_and_save_datasets(sizes, max_values):\n",
    "    for size in sizes:\n",
    "        data = [random.randint(1, max_values[size]) for _ in range(size)]\n",
    "        df = pd.DataFrame(data, columns=['Value'])\n",
    "        df.to_csv(f'dataset_{size}.csv', index=False)\n",
    "\n",
    "sizes = [2000000, 3000000, 4000000]\n",
    "max_values = {size: size for size in sizes}  # max value is equal to size for simplicity\n",
    "generate_and_save_datasets(sizes, max_values)"
   ]
  },
  {
   "cell_type": "code",
   "execution_count": null,
   "id": "5904a62a",
   "metadata": {},
   "outputs": [],
   "source": []
  }
 ],
 "metadata": {
  "kernelspec": {
   "display_name": "Python 3 (ipykernel)",
   "language": "python",
   "name": "python3"
  },
  "language_info": {
   "codemirror_mode": {
    "name": "ipython",
    "version": 3
   },
   "file_extension": ".py",
   "mimetype": "text/x-python",
   "name": "python",
   "nbconvert_exporter": "python",
   "pygments_lexer": "ipython3",
   "version": "3.11.5"
  }
 },
 "nbformat": 4,
 "nbformat_minor": 5
}
