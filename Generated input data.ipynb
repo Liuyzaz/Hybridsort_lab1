{
 "cells": [
  {
   "cell_type": "code",
   "execution_count": 1,
   "id": "46cda737",
   "metadata": {},
   "outputs": [],
   "source": [
    "import random\n",
    "import pandas as pd\n",
    "\n",
    "def generate_and_save_datasets(sizes, max_values):\n",
    "    for size in sizes:\n",
    "        data = [random.randint(1, max_values[size]) for _ in range(size)]\n",
    "        df = pd.DataFrame(data, columns=['Value'])\n",
    "        df.to_csv(f'dataset_{size}.csv', index=False)\n",
    "\n",
    "sizes = [1000, 5000, 10000, 50000, 100000, 500000, 1000000, 5000000]\n",
    "max_values = {size: size for size in sizes}  # max value is equal to size for simplicity\n",
    "generate_and_save_datasets(sizes, max_values)\n"
   ]
  },
  {
   "cell_type": "code",
   "execution_count": 2,
   "id": "f9cb7b3b",
   "metadata": {},
   "outputs": [],
   "source": [
    "import random\n",
    "import pandas as pd\n",
    "\n",
    "def generate_and_save_datasets(sizes, max_values):\n",
    "    for size in sizes:\n",
    "        data = [random.randint(1, max_values[size]) for _ in range(size)]\n",
    "        df = pd.DataFrame(data, columns=['Value'])\n",
    "        df.to_csv(f'dataset_{size}.csv', index=False)\n",
    "\n",
    "sizes = [200000, 300000, 400000]\n",
    "max_values = {size: size for size in sizes}  # max value is equal to size for simplicity\n",
    "generate_and_save_datasets(sizes, max_values)"
   ]
  },
  {
   "cell_type": "code",
   "execution_count": 1,
   "id": "5904a62a",
   "metadata": {},
   "outputs": [
    {
     "name": "stdout",
     "output_type": "stream",
     "text": [
      "Dataset of size 10000000 saved to dataset_10000000.csv\n"
     ]
    }
   ],
   "source": [
    "import numpy as np\n",
    "import pandas as pd\n",
    "\n",
    "# Function to generate a dataset of 10 million integers and save to CSV\n",
    "def generate_and_save_dataset(size, file_name):\n",
    "    # Generate random integers between 1 and size\n",
    "    data = np.random.randint(1, size + 1, size)\n",
    "    \n",
    "    # Create a DataFrame\n",
    "    df = pd.DataFrame(data, columns=['Value'])\n",
    "    \n",
    "    # Save the DataFrame to a CSV file\n",
    "    df.to_csv(file_name, index=False)\n",
    "    print(f\"Dataset of size {size} saved to {file_name}\")\n",
    "\n",
    "# Generate a dataset of 10 million integers and save it as a CSV file\n",
    "generate_and_save_dataset(10000000, 'dataset_10000000.csv')\n"
   ]
  },
  {
   "cell_type": "code",
   "execution_count": null,
   "id": "b33c1a33",
   "metadata": {},
   "outputs": [],
   "source": []
  }
 ],
 "metadata": {
  "kernelspec": {
   "display_name": "Python 3 (ipykernel)",
   "language": "python",
   "name": "python3"
  },
  "language_info": {
   "codemirror_mode": {
    "name": "ipython",
    "version": 3
   },
   "file_extension": ".py",
   "mimetype": "text/x-python",
   "name": "python",
   "nbconvert_exporter": "python",
   "pygments_lexer": "ipython3",
   "version": "3.11.5"
  }
 },
 "nbformat": 4,
 "nbformat_minor": 5
}
